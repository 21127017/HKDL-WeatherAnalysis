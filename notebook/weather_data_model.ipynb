{
 "cells": [
  {
   "cell_type": "code",
   "execution_count": 2,
   "metadata": {},
   "outputs": [
    {
     "name": "stdout",
     "output_type": "stream",
     "text": [
      "WARNING:tensorflow:From c:\\Users\\TuanKhai\\AppData\\Local\\Programs\\Python\\Python310\\lib\\site-packages\\keras\\src\\losses.py:2976: The name tf.losses.sparse_softmax_cross_entropy is deprecated. Please use tf.compat.v1.losses.sparse_softmax_cross_entropy instead.\n",
      "\n"
     ]
    }
   ],
   "source": [
    "import pandas as pd\n",
    "import numpy as np\n",
    "from sklearn.preprocessing import LabelEncoder\n",
    "from sklearn.model_selection import train_test_split\n",
    "from sklearn.linear_model import LogisticRegression\n",
    "from sklearn.ensemble import RandomForestClassifier\n",
    "from sklearn.metrics import accuracy_score, precision_score, recall_score, f1_score, confusion_matrix, classification_report\n",
    "from sklearn.svm import SVC\n",
    "from sklearn.neighbors import KNeighborsClassifier\n",
    "from sklearn.linear_model import LinearRegression\n",
    "import matplotlib.pyplot as plt\n",
    "from sklearn.metrics import mean_squared_error, r2_score\n",
    "from sklearn.pipeline import Pipeline\n",
    "from sklearn.impute import SimpleImputer\n",
    "from sklearn.preprocessing import StandardScaler\n",
    "from sklearn.compose import ColumnTransformer\n",
    "\n",
    "\n",
    "from tensorflow.keras.models import Sequential\n",
    "from tensorflow.keras.layers import Embedding, LSTM, Dense, Dropout\n",
    "from tensorflow.keras.preprocessing.text import Tokenizer\n",
    "from tensorflow.keras.preprocessing.sequence import pad_sequences\n",
    "from tensorflow.keras.utils import plot_model\n",
    "from tensorflow.keras.utils import model_to_dot\n",
    "\n",
    "from keras.models import Sequential\n",
    "from keras.layers import Embedding, LSTM, Dense\n",
    "from keras.layers import Flatten\n",
    "from keras.metrics import Precision, Recall, F1Score\n",
    "from keras.callbacks import EarlyStopping\n",
    "from keras.backend import clear_session\n",
    "from keras.utils import to_categorical\n",
    "\n",
    "from IPython.display import SVG"
   ]
  },
  {
   "cell_type": "markdown",
   "metadata": {},
   "source": [
    "**Loading data**"
   ]
  },
  {
   "cell_type": "code",
   "execution_count": 3,
   "metadata": {},
   "outputs": [
    {
     "name": "stdout",
     "output_type": "stream",
     "text": [
      "<class 'pandas.core.frame.DataFrame'>\n",
      "RangeIndex: 16900 entries, 0 to 16899\n",
      "Data columns (total 11 columns):\n",
      " #   Column               Non-Null Count  Dtype  \n",
      "---  ------               --------------  -----  \n",
      " 0   Timestamp            16900 non-null  int64  \n",
      " 1   Temperature          16900 non-null  float64\n",
      " 2   Feels Like           16900 non-null  float64\n",
      " 3   Temp Min             16900 non-null  float64\n",
      " 4   Temp Max             16900 non-null  float64\n",
      " 5   Pressure             16900 non-null  int64  \n",
      " 6   Humidity             16900 non-null  int64  \n",
      " 7   Weather Description  16900 non-null  object \n",
      " 8   Wind Speed           16900 non-null  float64\n",
      " 9   Wind Degree          16900 non-null  int64  \n",
      " 10  City                 16900 non-null  object \n",
      "dtypes: float64(5), int64(4), object(2)\n",
      "memory usage: 1.4+ MB\n"
     ]
    },
    {
     "data": {
      "text/html": [
       "<div>\n",
       "<style scoped>\n",
       "    .dataframe tbody tr th:only-of-type {\n",
       "        vertical-align: middle;\n",
       "    }\n",
       "\n",
       "    .dataframe tbody tr th {\n",
       "        vertical-align: top;\n",
       "    }\n",
       "\n",
       "    .dataframe thead th {\n",
       "        text-align: right;\n",
       "    }\n",
       "</style>\n",
       "<table border=\"1\" class=\"dataframe\">\n",
       "  <thead>\n",
       "    <tr style=\"text-align: right;\">\n",
       "      <th></th>\n",
       "      <th>Timestamp</th>\n",
       "      <th>Temperature</th>\n",
       "      <th>Feels Like</th>\n",
       "      <th>Temp Min</th>\n",
       "      <th>Temp Max</th>\n",
       "      <th>Pressure</th>\n",
       "      <th>Humidity</th>\n",
       "      <th>Weather Description</th>\n",
       "      <th>Wind Speed</th>\n",
       "      <th>Wind Degree</th>\n",
       "      <th>City</th>\n",
       "    </tr>\n",
       "  </thead>\n",
       "  <tbody>\n",
       "    <tr>\n",
       "      <th>0</th>\n",
       "      <td>1699542000</td>\n",
       "      <td>285.12</td>\n",
       "      <td>284.25</td>\n",
       "      <td>280.22</td>\n",
       "      <td>288.73</td>\n",
       "      <td>1011</td>\n",
       "      <td>72</td>\n",
       "      <td>overcast clouds</td>\n",
       "      <td>5.36</td>\n",
       "      <td>360</td>\n",
       "      <td>United States-New York City</td>\n",
       "    </tr>\n",
       "    <tr>\n",
       "      <th>1</th>\n",
       "      <td>1699545600</td>\n",
       "      <td>285.33</td>\n",
       "      <td>284.43</td>\n",
       "      <td>281.12</td>\n",
       "      <td>289.25</td>\n",
       "      <td>1011</td>\n",
       "      <td>70</td>\n",
       "      <td>overcast clouds</td>\n",
       "      <td>2.57</td>\n",
       "      <td>0</td>\n",
       "      <td>United States-New York City</td>\n",
       "    </tr>\n",
       "    <tr>\n",
       "      <th>2</th>\n",
       "      <td>1699549200</td>\n",
       "      <td>285.77</td>\n",
       "      <td>284.89</td>\n",
       "      <td>282.10</td>\n",
       "      <td>289.28</td>\n",
       "      <td>1010</td>\n",
       "      <td>69</td>\n",
       "      <td>overcast clouds</td>\n",
       "      <td>4.02</td>\n",
       "      <td>41</td>\n",
       "      <td>United States-New York City</td>\n",
       "    </tr>\n",
       "    <tr>\n",
       "      <th>3</th>\n",
       "      <td>1699552800</td>\n",
       "      <td>286.35</td>\n",
       "      <td>285.55</td>\n",
       "      <td>284.12</td>\n",
       "      <td>288.80</td>\n",
       "      <td>1009</td>\n",
       "      <td>70</td>\n",
       "      <td>broken clouds</td>\n",
       "      <td>4.63</td>\n",
       "      <td>270</td>\n",
       "      <td>United States-New York City</td>\n",
       "    </tr>\n",
       "    <tr>\n",
       "      <th>4</th>\n",
       "      <td>1699556400</td>\n",
       "      <td>286.98</td>\n",
       "      <td>286.19</td>\n",
       "      <td>285.34</td>\n",
       "      <td>289.13</td>\n",
       "      <td>1009</td>\n",
       "      <td>68</td>\n",
       "      <td>broken clouds</td>\n",
       "      <td>2.57</td>\n",
       "      <td>260</td>\n",
       "      <td>United States-New York City</td>\n",
       "    </tr>\n",
       "  </tbody>\n",
       "</table>\n",
       "</div>"
      ],
      "text/plain": [
       "    Timestamp  Temperature  Feels Like  Temp Min  Temp Max  Pressure  \\\n",
       "0  1699542000       285.12      284.25    280.22    288.73      1011   \n",
       "1  1699545600       285.33      284.43    281.12    289.25      1011   \n",
       "2  1699549200       285.77      284.89    282.10    289.28      1010   \n",
       "3  1699552800       286.35      285.55    284.12    288.80      1009   \n",
       "4  1699556400       286.98      286.19    285.34    289.13      1009   \n",
       "\n",
       "   Humidity Weather Description  Wind Speed  Wind Degree  \\\n",
       "0        72     overcast clouds        5.36          360   \n",
       "1        70     overcast clouds        2.57            0   \n",
       "2        69     overcast clouds        4.02           41   \n",
       "3        70       broken clouds        4.63          270   \n",
       "4        68       broken clouds        2.57          260   \n",
       "\n",
       "                          City  \n",
       "0  United States-New York City  \n",
       "1  United States-New York City  \n",
       "2  United States-New York City  \n",
       "3  United States-New York City  \n",
       "4  United States-New York City  "
      ]
     },
     "execution_count": 3,
     "metadata": {},
     "output_type": "execute_result"
    }
   ],
   "source": [
    "df = pd.read_csv(\"../data/weather_data_combined.csv\")\n",
    "df.info()\n",
    "df.head(5)"
   ]
  },
  {
   "cell_type": "markdown",
   "metadata": {},
   "source": [
    "### Giải thích chung về các chỉ số được sử dụng để đánh giá mô hình:\n",
    "Bởi vì yêu cầu từ bài toán đặt ra thuộc dạng phân lớp nên mô hình sẽ sử dụng các chỉ số sau để đo lường hiệu suất mô hình:\n",
    "- **Accuracy**: Biểu diễn tỷ lệ giữa số điểm *khẳng định đúng* và *phủ định đúng* trên *tổng số dự đoán* được đưa ra \n",
    "- **Recall**: Biểu diễn tỷ lệ giữa số điểm *khẳng định đúng* trên tổng số điểm mà tại đó là *đúng theo thực tế*\n",
    "- **Precision**: Biểu diễn tỷ lệ giữa số điểm *khẳng định đúng* trên tổng số điểm mà tại đó là *đúng theo dự đoán của mô hình*\n",
    "- **F1-Score**: Biểu diễn *trung bình điều hòa* giữa `Precision` và `Recall` \n",
    "- **Confusion Matrix**: Đối chiếu cụ thể những dự đoán được đưa ra bởi mô hình so với kết quả thực tế. Trong trường hợp của mô hình phân lớp với nhiều lớp dữ liệu khác nhau (*Multiclass*), ma trận gồm 2 trục tương ứng cho kết quả thực tế và dự đoán từ mô hình. Mỗi điểm trong ma trận biểu diễn số điểm đúng so với giả thuyết lần dự đoán của mô hình. "
   ]
  },
  {
   "cell_type": "markdown",
   "metadata": {},
   "source": [
    "# Preprocessing data"
   ]
  },
  {
   "cell_type": "code",
   "execution_count": 4,
   "metadata": {},
   "outputs": [],
   "source": [
    "#df['Timestamp'] = pd.to_datetime(df['Timestamp'], unit='s')\n",
    "df['Timestamp'] = df['Timestamp'].astype('int64')/1e9\n",
    "lb = LabelEncoder()\n",
    "df['Weather Description'] = lb.fit_transform(df['Weather Description'])"
   ]
  },
  {
   "cell_type": "code",
   "execution_count": 5,
   "metadata": {},
   "outputs": [],
   "source": [
    "# Split the data\n",
    "X = df.drop(['Weather Description', 'City', 'Timestamp'], axis=1)\n",
    "y = df['Weather Description']\n",
    "X_train, X_test, y_train, y_test = train_test_split(X, y, test_size=0.2, random_state=42)"
   ]
  },
  {
   "cell_type": "markdown",
   "metadata": {},
   "source": [
    "# Random Forest model"
   ]
  },
  {
   "cell_type": "code",
   "execution_count": 6,
   "metadata": {},
   "outputs": [],
   "source": [
    "model = RandomForestClassifier(n_estimators=100, random_state=42)\n",
    "model.fit(X_train, y_train)\n",
    "y_pred = model.predict(X_test)"
   ]
  },
  {
   "cell_type": "code",
   "execution_count": 7,
   "metadata": {},
   "outputs": [
    {
     "name": "stdout",
     "output_type": "stream",
     "text": [
      "Accuracy: 0.5905325443786982\n",
      "Precision: 0.5555792616141045\n",
      "Recall: 0.5905325443786982\n",
      "F1 Score: 0.5290619453216618\n",
      "Confusion Matrix: \n",
      "[[  87  218    0    6    2    0    0    0    4    0    0    0  104   13\n",
      "     0    0    0]\n",
      " [  23 1323    0    7    1    1    0    0    0    0    1    0   61    8\n",
      "     0    0    0]\n",
      " [   0    0    0    0    0    0    0    0    1    0    0    0    0    0\n",
      "     0    0    0]\n",
      " [  13  215    0   25    0    0    0    0    0    1    2    0   25    9\n",
      "     0    0    0]\n",
      " [   0    5    0    0    3    0    0    0    0    0    3    0    3    0\n",
      "     0    0    0]\n",
      " [   0   36    0    0    1    3    0    0    0    0    0    0    1    1\n",
      "     0    0    0]\n",
      " [   0    1    0    0    0    0    2    0    0    0    0    2    5    0\n",
      "     0    0    0]\n",
      " [   0    1    0    0    0    0    0    0    0    0    0    0    5    0\n",
      "     0    0    0]\n",
      " [   1    6    0    0    0    0    0    0    4    1    2    1   45    0\n",
      "     0    0    0]\n",
      " [   0    0    0    0    0    0    0    0    1    6    0    0    1    0\n",
      "     0    0    0]\n",
      " [   3   13    0    2    2    0    0    0    1    3   35    3   35    1\n",
      "     0    0    0]\n",
      " [   2    2    0    0    0    0    1    0    3    0    0    4   15    0\n",
      "     0    0    0]\n",
      " [  31  181    0    5    0    0    0    0   10    0   12    6  473    3\n",
      "     0    1    0]\n",
      " [  21  133    0   10    0    0    0    0    0    0    1    0   36   28\n",
      "     0    0    0]\n",
      " [   0    6    0    0    0    0    0    0    0    0    0    0    0    0\n",
      "     1    0    0]\n",
      " [   0    0    0    0    0    0    0    0    0    1    1    0    2    0\n",
      "     0    1    0]\n",
      " [   0    0    0    0    0    0    1    0    0    0    0    0    0    0\n",
      "     0    0    1]]\n"
     ]
    }
   ],
   "source": [
    "# Calculate metrics\n",
    "accuracy = accuracy_score(y_test, y_pred)\n",
    "precision = precision_score(y_test, y_pred, average='weighted', zero_division=0)\n",
    "\n",
    "recall = recall_score(y_test, y_pred, average='weighted')\n",
    "f1 = f1_score(y_test, y_pred, average='weighted')\n",
    "\n",
    "# Print metrics\n",
    "print(f'Accuracy: {accuracy}')\n",
    "print(f'Precision: {precision}')\n",
    "print(f'Recall: {recall}')\n",
    "print(f'F1 Score: {f1}')\n",
    "\n",
    "# Confusion Matrix\n",
    "cm = confusion_matrix(y_test, y_pred)\n",
    "print(f'Confusion Matrix: \\n{cm}')"
   ]
  },
  {
   "cell_type": "markdown",
   "metadata": {},
   "source": [
    "**Nhận xét**\n",
    "- Accuracy: Trong tất cả các dự đoán được đưa ra bởi mô hình, chỉ có khoảng 59% là chính xác.\n",
    "- Precision: Trong tất cả các dự đoán mà mô hình cho là đúng, thì chỉ có khoảng 55% là đúng với thực tế.\n",
    "- Recall: Trong tất cả các đối tượng được cho là đúng với thực tế, thì mô hình chỉ dự đoán được khoảng 59% trong số đó.\n",
    "- F1 Score: Nhìn chung độ chính xác và độ bao phủ từ mô hình chỉ đạt 53%\n",
    "- Confusion matrix: Từ ma trận ta thấy mô hình hoạt động hiệu quả trên một số lớp nhưng không tốt trên các lớp khác.\n",
    "\n",
    "$\\Rightarrow$ Các chỉ số cho thấy hiệu năng của mô hình chỉ nằm ở mức trung bình, vẫn cần cải thiện thêm."
   ]
  },
  {
   "cell_type": "markdown",
   "metadata": {},
   "source": [
    "# Logistic Regression model"
   ]
  },
  {
   "cell_type": "code",
   "execution_count": 8,
   "metadata": {},
   "outputs": [
    {
     "name": "stdout",
     "output_type": "stream",
     "text": [
      "              precision    recall  f1-score   support\n",
      "\n",
      "           0       0.00      0.00      0.00       434\n",
      "           1       0.52      0.91      0.67      1425\n",
      "           2       0.00      0.00      0.00         1\n",
      "           3       0.00      0.00      0.00       290\n",
      "           4       0.00      0.00      0.00        14\n",
      "           5       0.00      0.00      0.00        42\n",
      "           6       0.00      0.00      0.00        10\n",
      "           8       0.00      0.00      0.00         6\n",
      "           9       0.00      0.00      0.00        60\n",
      "          10       0.00      0.00      0.00         8\n",
      "          11       0.50      0.04      0.08        98\n",
      "          12       0.00      0.00      0.00        27\n",
      "          13       0.45      0.55      0.50       722\n",
      "          14       0.00      0.00      0.00       229\n",
      "          16       0.00      0.00      0.00         7\n",
      "          17       0.00      0.00      0.00         5\n",
      "          19       0.00      0.00      0.00         2\n",
      "\n",
      "    accuracy                           0.50      3380\n",
      "   macro avg       0.09      0.09      0.07      3380\n",
      "weighted avg       0.33      0.50      0.39      3380\n",
      "\n",
      "Accuracy: 0.5047337278106508\n",
      "Precision: 0.3320360908012808\n",
      "Recall: 0.5047337278106508\n",
      "F1 Score: 0.38930434476324444\n",
      "Confusion Matrix: \n",
      "[[   0  330    0    0    0    0    0    0    0    0    0    0  104    0\n",
      "     0    0    0]\n",
      " [   0 1303    0    0    0    0    0    0    0    0    1    0  121    0\n",
      "     0    0    0]\n",
      " [   0    0    0    0    0    0    0    0    0    0    0    0    1    0\n",
      "     0    0    0]\n",
      " [   0  249    0    0    0    0    0    0    0    0    0    0   41    0\n",
      "     0    0    0]\n",
      " [   0    8    0    0    0    0    0    0    0    0    2    0    4    0\n",
      "     0    0    0]\n",
      " [   0   42    0    0    0    0    0    0    0    0    0    0    0    0\n",
      "     0    0    0]\n",
      " [   0    1    0    0    0    0    0    0    0    0    0    0    9    0\n",
      "     0    0    0]\n",
      " [   0    1    0    0    0    0    0    0    0    0    0    0    5    0\n",
      "     0    0    0]\n",
      " [   0   13    0    0    0    0    0    0    0    1    0    0   46    0\n",
      "     0    0    0]\n",
      " [   0    0    0    0    0    0    0    0    0    0    0    0    8    0\n",
      "     0    0    0]\n",
      " [   0   20    0    0    0    0    0    0    0    0    4    0   74    0\n",
      "     0    0    0]\n",
      " [   0    1    0    0    0    0    0    0    0    0    0    0   26    0\n",
      "     0    0    0]\n",
      " [   0  322    0    0    0    0    0    0    0    0    1    0  399    0\n",
      "     0    0    0]\n",
      " [   0  190    0    0    0    0    0    0    0    0    0    0   39    0\n",
      "     0    0    0]\n",
      " [   0    7    0    0    0    0    0    0    0    0    0    0    0    0\n",
      "     0    0    0]\n",
      " [   0    1    0    0    0    0    0    0    0    2    0    0    2    0\n",
      "     0    0    0]\n",
      " [   0    0    0    0    0    0    0    0    0    0    0    0    2    0\n",
      "     0    0    0]]\n"
     ]
    }
   ],
   "source": [
    "model = LogisticRegression(solver='liblinear', multi_class='auto')\n",
    "\n",
    "# Train the model\n",
    "model.fit(X_train, y_train)\n",
    "\n",
    "# Make predictions\n",
    "y_pred = model.predict(X_test)\n",
    "\n",
    "# Print a classification report\n",
    "print(classification_report(y_test, y_pred, zero_division=0))\n",
    "\n",
    "# Calculate metrics\n",
    "accuracy = accuracy_score(y_test, y_pred)\n",
    "precision = precision_score(y_test, y_pred, average='weighted', zero_division=0)\n",
    "\n",
    "recall = recall_score(y_test, y_pred, average='weighted')\n",
    "f1 = f1_score(y_test, y_pred, average='weighted')\n",
    "\n",
    "# Print metrics\n",
    "print(f'Accuracy: {accuracy}')\n",
    "print(f'Precision: {precision}')\n",
    "print(f'Recall: {recall}')\n",
    "print(f'F1 Score: {f1}')\n",
    "\n",
    "# Confusion Matrix\n",
    "cm = confusion_matrix(y_test, y_pred)\n",
    "print(f'Confusion Matrix: \\n{cm}')"
   ]
  },
  {
   "cell_type": "markdown",
   "metadata": {},
   "source": [
    "# K-Nearest Neighbors model"
   ]
  },
  {
   "cell_type": "code",
   "execution_count": 9,
   "metadata": {},
   "outputs": [
    {
     "name": "stdout",
     "output_type": "stream",
     "text": [
      "Metrics (KNN):\n",
      "   Accuracy  Precision    Recall  F1 Score\n",
      "0  0.501479   0.441872  0.501479  0.455627\n",
      "\n",
      "Confusion Matrix (KNN):\n",
      "     0     1   2   3   4   5   6   8   9   10  11  12   13  14  16  17  19\n",
      "0   109   225   0   8   3   0   0   0   1   1   2   1   70  14   0   0   0\n",
      "1   101  1176   0  31   4   0   0   0   1   0   4   1   85  22   0   0   0\n",
      "2     0     0   0   0   0   0   0   0   1   0   0   0    0   0   0   0   0\n",
      "3    43   181   0  25   0   0   0   0   0   0   0   0   31  10   0   0   0\n",
      "4     2     6   0   0   2   0   0   0   0   0   2   1    1   0   0   0   0\n",
      "5     1    36   0   1   1   0   0   0   0   0   0   0    3   0   0   0   0\n",
      "6     0     1   0   0   0   0   2   0   0   0   1   1    5   0   0   0   0\n",
      "8     1     1   0   0   0   0   0   0   1   0   0   0    3   0   0   0   0\n",
      "9     4     8   0   1   0   0   1   0   5   0   7   1   32   1   0   0   0\n",
      "10    1     0   0   0   0   0   0   0   0   4   0   0    3   0   0   0   0\n",
      "11    6    14   0   2   1   0   1   0   1   2  29   5   36   0   0   1   0\n",
      "12    2     2   0   0   0   0   1   0   1   0   1   5   15   0   0   0   0\n",
      "13   95   236   0  11   1   0   1   1   8   0  20   6  328  15   0   0   0\n",
      "14   44   129   0  14   1   0   0   0   1   0   0   0   30   9   0   1   0\n",
      "16    0     7   0   0   0   0   0   0   0   0   0   0    0   0   0   0   0\n",
      "17    1     0   0   0   0   0   0   0   0   2   0   0    1   0   0   1   0\n",
      "19    0     0   0   0   0   0   1   0   0   0   1   0    0   0   0   0   0\n"
     ]
    }
   ],
   "source": [
    "# K-Nearest Neighbors (KNN)\n",
    "knn_model = KNeighborsClassifier(n_neighbors=5)\n",
    "knn_model.fit(X_train, y_train)\n",
    "y_pred_knn = knn_model.predict(X_test)\n",
    "\n",
    "# Calculate metrics for KNN\n",
    "accuracy_knn = accuracy_score(y_test, y_pred_knn)\n",
    "precision_knn = precision_score(y_test, y_pred_knn, average='weighted', zero_division=0)\n",
    "recall_knn = recall_score(y_test, y_pred_knn, average='weighted')\n",
    "f1_knn = f1_score(y_test, y_pred_knn, average='weighted')\n",
    "cm_knn = confusion_matrix(y_test, y_pred_knn)\n",
    "\n",
    "# Create DataFrame for KNN metrics\n",
    "metrics_df_knn = pd.DataFrame({\n",
    "    'Accuracy': [accuracy_knn],\n",
    "    'Precision': [precision_knn],\n",
    "    'Recall': [recall_knn],\n",
    "    'F1 Score': [f1_knn]\n",
    "})\n",
    "\n",
    "# Print KNN metrics\n",
    "print(\"Metrics (KNN):\")\n",
    "print(metrics_df_knn)\n",
    "\n",
    "# Create DataFrame for KNN confusion matrix\n",
    "cm_df_knn = pd.DataFrame(cm_knn, index=np.unique(y_test), columns=np.unique(y_test))\n",
    "\n",
    "# Print KNN confusion matrix\n",
    "print(\"\\nConfusion Matrix (KNN):\")\n",
    "print(cm_df_knn)"
   ]
  },
  {
   "cell_type": "markdown",
   "metadata": {},
   "source": [
    "**Nhận xét**\n",
    "- Accuracy: Trong tất cả các dự đoán được đưa ra bởi mô hình, chỉ có khoảng 50% là chính xác.\n",
    "- Precision: Trong tất cả các dự đoán mà mô hình cho là đúng, thì chỉ có khoảng 33% là đúng với thực tế.\n",
    "- Recall: Trong tất cả các đối tượng được cho là đúng với thực tế, thì mô hình chỉ dự đoán được khoảng 50% trong số đó.\n",
    "- F1 Score: Nhìn chung độ chính xác và độ bao phủ từ mô hình chỉ đạt 37%\n",
    "- Confusion matrix: Từ ma trận ta thấy mô hình hoạt động hiệu quả trên lớp 1 và lớp 13 nhưng cực kém trên các lớp khác.\n",
    "\n",
    "$\\Rightarrow$ Chỉ số Accuracy ở mức trung bình còn chỉ số F1 chỉ nằm ở mức yếu cho thấy hiệu năng tổng quan của mô hình yếu"
   ]
  },
  {
   "cell_type": "markdown",
   "metadata": {},
   "source": [
    "# SVM model"
   ]
  },
  {
   "cell_type": "code",
   "execution_count": 10,
   "metadata": {},
   "outputs": [
    {
     "name": "stdout",
     "output_type": "stream",
     "text": [
      "              precision    recall  f1-score   support\n",
      "\n",
      "           0       0.00      0.00      0.00       434\n",
      "           1       0.54      0.90      0.67      1425\n",
      "           2       0.00      0.00      0.00         1\n",
      "           3       0.00      0.00      0.00       290\n",
      "           4       0.00      0.00      0.00        14\n",
      "           5       0.00      0.00      0.00        42\n",
      "           6       0.00      0.00      0.00        10\n",
      "           8       0.00      0.00      0.00         6\n",
      "           9       0.00      0.00      0.00        60\n",
      "          10       0.42      0.62      0.50         8\n",
      "          11       0.35      0.07      0.12        98\n",
      "          12       0.00      0.00      0.00        27\n",
      "          13       0.44      0.58      0.50       722\n",
      "          14       0.00      0.00      0.00       229\n",
      "          16       0.00      0.00      0.00         7\n",
      "          17       0.40      0.40      0.40         5\n",
      "          19       0.00      0.00      0.00         2\n",
      "\n",
      "    accuracy                           0.51      3380\n",
      "   macro avg       0.13      0.15      0.13      3380\n",
      "weighted avg       0.33      0.51      0.40      3380\n",
      "\n",
      "Accuracy: 0.508284023668639\n",
      "Precision: 0.33247774721696083\n",
      "Recall: 0.508284023668639\n",
      "F1 Score: 0.39616313313935275\n",
      "Confusion Matrix: \n",
      "[[   0  311    0    0    0    0    0    0    0    1    0    0  122    0\n",
      "     0    0    0]\n",
      " [   0 1284    0    0    0    0    0    0    0    0    3    0  138    0\n",
      "     0    0    0]\n",
      " [   0    0    0    0    0    0    0    0    0    0    0    0    1    0\n",
      "     0    0    0]\n",
      " [   1  245    0    0    0    0    0    0    0    0    0    0   44    0\n",
      "     0    0    0]\n",
      " [   0    7    0    0    0    0    0    0    0    0    2    0    5    0\n",
      "     0    0    0]\n",
      " [   0   39    0    0    0    0    0    0    0    0    0    0    2    0\n",
      "     0    1    0]\n",
      " [   0    1    0    0    0    0    0    0    0    0    1    0    8    0\n",
      "     0    0    0]\n",
      " [   0    1    0    0    0    0    0    0    0    0    0    0    5    0\n",
      "     0    0    0]\n",
      " [   0    9    0    0    0    0    0    0    0    0    0    0   50    0\n",
      "     0    1    0]\n",
      " [   0    0    0    0    0    0    0    0    0    5    0    0    3    0\n",
      "     0    0    0]\n",
      " [   0   12    0    0    0    0    0    0    0    3    7    0   75    0\n",
      "     0    1    0]\n",
      " [   0    1    0    0    0    0    0    0    0    0    2    0   24    0\n",
      "     0    0    0]\n",
      " [   0  298    0    0    0    0    0    0    0    1    3    0  420    0\n",
      "     0    0    0]\n",
      " [   0  178    0    0    0    0    0    0    0    0    0    0   51    0\n",
      "     0    0    0]\n",
      " [   0    7    0    0    0    0    0    0    0    0    0    0    0    0\n",
      "     0    0    0]\n",
      " [   0    0    0    0    0    0    0    0    0    2    0    0    1    0\n",
      "     0    2    0]\n",
      " [   0    0    0    0    0    0    0    0    0    0    2    0    0    0\n",
      "     0    0    0]]\n"
     ]
    }
   ],
   "source": [
    "# scaler = StandardScaler()\n",
    "# X_train = scaler.fit_transform(X_train)\n",
    "# X_test = scaler.transform(X_test)\n",
    "\n",
    "# Create an SVM model\n",
    "model = SVC(kernel='linear', C=1.0)\n",
    "\n",
    "# Train the model\n",
    "model.fit(X_train, y_train)\n",
    "\n",
    "# Make predictions\n",
    "y_pred = model.predict(X_test)\n",
    "\n",
    "# Print a classification report\n",
    "print(classification_report(y_test, y_pred, zero_division=0))\n",
    "\n",
    "# Calculate metrics\n",
    "accuracy = accuracy_score(y_test, y_pred)\n",
    "precision = precision_score(y_test, y_pred, average='weighted', zero_division=0)\n",
    "recall = recall_score(y_test, y_pred, average='weighted')\n",
    "f1 = f1_score(y_test, y_pred, average='weighted')\n",
    "\n",
    "# Print metrics\n",
    "print(f'Accuracy: {accuracy}')\n",
    "print(f'Precision: {precision}')\n",
    "print(f'Recall: {recall}')\n",
    "print(f'F1 Score: {f1}')\n",
    "\n",
    "# Confusion Matrix\n",
    "cm = confusion_matrix(y_test, y_pred)\n",
    "print(f'Confusion Matrix: \\n{cm}')"
   ]
  },
  {
   "cell_type": "markdown",
   "metadata": {},
   "source": [
    "**Nhận xét**\n",
    "- Accuracy: Trong tất cả các dự đoán được đưa ra bởi mô hình, chỉ có khoảng 51% là chính xác.\n",
    "- Precision: Trong tất cả các dự đoán mà mô hình cho là đúng, thì chỉ có khoảng 33% là đúng với thực tế.\n",
    "- Recall: Trong tất cả các đối tượng được cho là đúng với thực tế, thì mô hình chỉ dự đoán được khoảng 51% trong số đó.\n",
    "- F1 Score: Nhìn chung độ chính xác và độ bao phủ từ mô hình chỉ đạt 40%\n",
    "- Confusion matrix: Từ ma trận ta thấy mô hình có xu hướng dự đoán nhiều vào lớp 1 và lớp 13, trong khi bỏ sót hoặc dự đoán sai nhiều các lớp khác\n",
    "\n",
    "$\\Rightarrow$ Từ các chỉ số được cung cấp, ta thấy hiệu năng của mô hình chỉ đạt mức kém"
   ]
  },
  {
   "cell_type": "markdown",
   "metadata": {},
   "source": [
    "# Neuron Network model"
   ]
  },
  {
   "cell_type": "code",
   "execution_count": 11,
   "metadata": {},
   "outputs": [
    {
     "name": "stdout",
     "output_type": "stream",
     "text": [
      "WARNING:tensorflow:From c:\\Users\\TuanKhai\\AppData\\Local\\Programs\\Python\\Python310\\lib\\site-packages\\keras\\src\\backend.py:873: The name tf.get_default_graph is deprecated. Please use tf.compat.v1.get_default_graph instead.\n",
      "\n",
      "WARNING:tensorflow:From c:\\Users\\TuanKhai\\AppData\\Local\\Programs\\Python\\Python310\\lib\\site-packages\\keras\\src\\optimizers\\__init__.py:309: The name tf.train.Optimizer is deprecated. Please use tf.compat.v1.train.Optimizer instead.\n",
      "\n",
      "Epoch 1/10\n",
      "WARNING:tensorflow:From c:\\Users\\TuanKhai\\AppData\\Local\\Programs\\Python\\Python310\\lib\\site-packages\\keras\\src\\utils\\tf_utils.py:492: The name tf.ragged.RaggedTensorValue is deprecated. Please use tf.compat.v1.ragged.RaggedTensorValue instead.\n",
      "\n",
      "WARNING:tensorflow:From c:\\Users\\TuanKhai\\AppData\\Local\\Programs\\Python\\Python310\\lib\\site-packages\\keras\\src\\engine\\base_layer_utils.py:384: The name tf.executing_eagerly_outside_functions is deprecated. Please use tf.compat.v1.executing_eagerly_outside_functions instead.\n",
      "\n",
      "423/423 [==============================] - 3s 6ms/step - loss: 0.8738 - accuracy: 0.9155 - val_loss: 0.1490 - val_accuracy: 0.9541\n",
      "Epoch 2/10\n",
      "423/423 [==============================] - 2s 6ms/step - loss: 0.1002 - accuracy: 0.9680 - val_loss: 0.0804 - val_accuracy: 0.9914\n",
      "Epoch 3/10\n",
      "423/423 [==============================] - 3s 6ms/step - loss: 0.0560 - accuracy: 0.9905 - val_loss: 0.0549 - val_accuracy: 0.9914\n",
      "Epoch 4/10\n",
      "423/423 [==============================] - 3s 7ms/step - loss: 0.0393 - accuracy: 0.9933 - val_loss: 0.0412 - val_accuracy: 0.9991\n",
      "Epoch 5/10\n",
      "423/423 [==============================] - 3s 7ms/step - loss: 0.0274 - accuracy: 0.9990 - val_loss: 0.0326 - val_accuracy: 0.9991\n",
      "Epoch 6/10\n",
      "423/423 [==============================] - 3s 6ms/step - loss: 0.0226 - accuracy: 0.9990 - val_loss: 0.0288 - val_accuracy: 0.9991\n",
      "Epoch 7/10\n",
      "423/423 [==============================] - 3s 6ms/step - loss: 0.0201 - accuracy: 0.9990 - val_loss: 0.0258 - val_accuracy: 0.9991\n",
      "Epoch 8/10\n",
      "423/423 [==============================] - 3s 6ms/step - loss: 0.0179 - accuracy: 0.9992 - val_loss: 0.0230 - val_accuracy: 0.9997\n",
      "Epoch 9/10\n",
      "423/423 [==============================] - 3s 6ms/step - loss: 0.0159 - accuracy: 0.9996 - val_loss: 0.0205 - val_accuracy: 0.9997\n",
      "Epoch 10/10\n",
      "423/423 [==============================] - 3s 6ms/step - loss: 0.0141 - accuracy: 0.9996 - val_loss: 0.0181 - val_accuracy: 0.9997\n",
      "106/106 [==============================] - 0s 1ms/step - loss: 0.0181 - accuracy: 0.9997\n",
      "Test Loss: 0.0181\n",
      "Test Accuracy: 0.9997\n"
     ]
    }
   ],
   "source": [
    "# Assuming you have a 'text' column and a 'weather' column in your DataFrame\n",
    "X_text = df['Weather Description'].astype(str).values  # Convert to string\n",
    "X_numeric = df[['Temperature', 'Feels Like', 'Temp Min', 'Temp Max', 'Pressure', 'Humidity', 'Wind Speed', 'Wind Degree']]\n",
    "\n",
    "# Convert labels to numerical values\n",
    "le = LabelEncoder()\n",
    "y = le.fit_transform(df['Weather Description'])\n",
    "\n",
    "# Tokenize the text data\n",
    "max_vocab_size = 16000  # Adjust as needed\n",
    "tokenizer = Tokenizer(num_words=max_vocab_size)\n",
    "tokenizer.fit_on_texts(X_text)\n",
    "X_text = tokenizer.texts_to_sequences(X_text)\n",
    "\n",
    "# Pad sequences to a fixed length\n",
    "max_len = max(len(seq) for seq in X_text)\n",
    "X_text = pad_sequences(X_text, maxlen=max_len)\n",
    "\n",
    "# Define the preprocessing pipeline for numeric features\n",
    "numeric_features = ['Temperature', 'Feels Like', 'Temp Min', 'Temp Max', 'Pressure', 'Humidity', 'Wind Speed', 'Wind Degree']\n",
    "numeric_transformer = Pipeline(steps=[\n",
    "    ('imputer', SimpleImputer(strategy='median')),\n",
    "    ('scaler', StandardScaler())\n",
    "])\n",
    "\n",
    "# Combine text and numeric features\n",
    "preprocessor = ColumnTransformer(\n",
    "    transformers=[\n",
    "        ('text', Tokenizer(), 'Weather Description'),\n",
    "        ('num', numeric_transformer, numeric_features)\n",
    "    ]\n",
    ")\n",
    "\n",
    "# Chia dữ liệu thành tập huấn luyện và tập kiểm tra\n",
    "X_train, X_test, y_train, y_test = train_test_split(X_text, y, test_size=0.2, random_state=42)\n",
    "\n",
    "# Xây dựng mô hình\n",
    "embedding_dim = 50  # Đặt kích thước của không gian embedding\n",
    "model = Sequential()\n",
    "model.add(Embedding(input_dim=max_vocab_size, output_dim=embedding_dim, input_length=max_len))\n",
    "model.add(Flatten())\n",
    "model.add(Dense(10, activation='relu'))\n",
    "model.add(Dense(len(le.classes_), activation='sigmoid'))\n",
    "\n",
    "# Biên soạn và huấn luyện mô hình\n",
    "model.compile(optimizer='adam', loss='sparse_categorical_crossentropy', metrics=['accuracy'])\n",
    "model.fit(X_train, y_train, epochs=10, batch_size=32, validation_data=(X_test, y_test))\n",
    "\n",
    "# Đánh giá mô hình\n",
    "loss, accuracy = model.evaluate(X_test, y_test)\n",
    "print(f\"Test Loss: {loss:.4f}\")\n",
    "print(f\"Test Accuracy: {accuracy:.4f}\")"
   ]
  },
  {
   "cell_type": "code",
   "execution_count": 12,
   "metadata": {},
   "outputs": [
    {
     "name": "stdout",
     "output_type": "stream",
     "text": [
      "106/106 [==============================] - 0s 862us/step\n",
      "Accuracy: 0.9997\n",
      "Precision: 0.9994\n",
      "Recall: 0.9997\n",
      "F1 Score: 0.9996\n"
     ]
    }
   ],
   "source": [
    "y_pred_prob = model.predict(X_test)\n",
    "y_pred = np.argmax(y_pred_prob, axis=1)\n",
    "\n",
    "# print(\"Classification Report:\")\n",
    "# print(classification_report(y_test, y_pred, zero_division=0))\n",
    "accuracy = accuracy_score(y_test, y_pred)\n",
    "precision = precision_score(y_test, y_pred, average='weighted', zero_division=0)\n",
    "recall = recall_score(y_test, y_pred, average='weighted')\n",
    "f1 = f1_score(y_test, y_pred, average='weighted')\n",
    "\n",
    "# Print the metrics\n",
    "print(f\"Accuracy: {accuracy:.4f}\")\n",
    "print(f\"Precision: {precision:.4f}\")\n",
    "print(f\"Recall: {recall:.4f}\")\n",
    "print(f\"F1 Score: {f1:.4f}\")"
   ]
  },
  {
   "cell_type": "markdown",
   "metadata": {},
   "source": [
    "**Nhận xét**\n",
    "- Accuracy: Trong tất cả các dự đoán được đưa ra bởi mô hình, độ chính xác rơi vào khoảng 99%.\n",
    "- Precision: Trong tất cả các dự đoán mà mô hình cho là đúng, 99% số dự đoán đúng so với thực tế.\n",
    "- Recall: Trong tất cả các đối tượng được cho là đúng với thực tế, thì mô hình dự đoán đúng 99%.\n",
    "- F1 Score: Nhìn chung độ chính xác và độ bao phủ từ mô hình đạt mức 99%\n",
    "\n",
    "$\\Rightarrow$ Từ các chỉ số được cung cấp, ta thấy hiệu năng của mô hình đạt hiệu quả rất cao."
   ]
  },
  {
   "cell_type": "markdown",
   "metadata": {},
   "source": [
    "## So sánh và lựa chọn mô hình\n",
    "**Nhận xét chung**: Trong các mô hình đã xây dựng ở trên, có 2 mô hình đạt hiệu quả kém (SVM, Logistic Regression), 2 mô hình đạt hiệu quả trung bình (KNN, Random Forest) và 1 mô hình đạt hiệu quả cao (Neural Network).\n",
    "\n",
    "Điều này có thể được giải thích dựa trên một số yếu tố như sau: \n",
    "- Chênh lệch vốn có trong dữ liệu đầu vào: Trong lớp dự đoán ta nhận thấy sự phân bố không đồng đều trong các giá trị từ mỗi lớp con khác nhau (có lớp chiếm hơn 1000 đối tượng nhưng lại có nhiều lớp chỉ có tầm 10-20 đối tượng) $\\Rightarrow$ Việc chênh lệch mẫu ít nhiều cũng gây ảnh hưởng tới cách mô hình dự đoán\n",
    "- Độ phức tạp trong các mô hình được cài đặt: Nếu so sánh 4 mô hình đầu vơi mô hình Neural Network, ta nhân thấy sự chênh lệch trong cách cài đặt thuật toán. Cụ thể, với mô hình Neural Network, ta có tổ chức phân tầng và chạy mô hình nhiều giai đoạn. Điều này vô hình chung tạo nên điều kiện rất tốt để mô hình có thể liên tục cải thiện độ chính xác nói riêng và các chỉ số đo lường hiệu suất nói chung. Tuy vậy, việc đạt được hiệu quả tuyệt đối cũng làm dấy lên quan ngại rằng mô hình có thể đạt phải tình trạng Overfitting\n",
    "\n",
    "**Lựa chọn mô hình** Do vậy, nhóm em sẽ lựa chọn mô hình Neural Network để phân tích và điều chỉnh siêu tham số để quan sát ảnh hưởng tới hiệu suất đạt được\n"
   ]
  },
  {
   "cell_type": "code",
   "execution_count": 13,
   "metadata": {},
   "outputs": [
    {
     "name": "stdout",
     "output_type": "stream",
     "text": [
      "Max Vocab Size: 20\n"
     ]
    }
   ],
   "source": [
    "# Xác định cột chứa văn bản\n",
    "text_column = 'Weather Description'\n",
    "\n",
    "# Lấy ra toàn bộ văn bản từ cột\n",
    "all_text = df[text_column].astype(str).values\n",
    "\n",
    "# Khởi tạo Tokenizer và fit trên dữ liệu\n",
    "tokenizer = Tokenizer()\n",
    "tokenizer.fit_on_texts(all_text)\n",
    "\n",
    "# Xác định max_vocab_size dựa trên số từ vựng trong tokenizer\n",
    "max_vocab_size = len(tokenizer.word_index)\n",
    "print(\"Max Vocab Size:\", max_vocab_size)"
   ]
  },
  {
   "cell_type": "code",
   "execution_count": 14,
   "metadata": {},
   "outputs": [
    {
     "name": "stdout",
     "output_type": "stream",
     "text": [
      "Weather Description\n",
      "1     7344\n",
      "13    3710\n",
      "0     2018\n",
      "3     1380\n",
      "14    1028\n",
      "Name: count, dtype: int64\n"
     ]
    }
   ],
   "source": [
    "# Đọc dữ liệu từ file hoặc nguồn dữ liệu khác\n",
    "# df = pd.read_csv('your_data.csv')\n",
    "\n",
    "# Xác định cột chứa văn bản\n",
    "text_column = 'Weather Description'\n",
    "\n",
    "# Lấy giá trị và số lần xuất hiện của chúng\n",
    "word_counts = df[text_column].value_counts()\n",
    "\n",
    "# In ra một số giá trị đầu tiên\n",
    "print(word_counts.head())\n"
   ]
  },
  {
   "cell_type": "markdown",
   "metadata": {},
   "source": [
    "## 1. Chia dữ liệu thành tập huấn luyện, tập kiểm tra và tập validation:"
   ]
  },
  {
   "cell_type": "code",
   "execution_count": 15,
   "metadata": {},
   "outputs": [],
   "source": [
    "# Assuming you have a 'text' column and a 'weather' column in your DataFrame\n",
    "X_text = df['Weather Description'].astype(str).values  # Convert to string\n",
    "# Convert labels to numerical values\n",
    "le = LabelEncoder()\n",
    "y = le.fit_transform(df['Weather Description'])\n",
    "\n",
    "# Tokenize the text data\n",
    "max_vocab_size = 21  # Adjust as needed\n",
    "tokenizer = Tokenizer(num_words=max_vocab_size)\n",
    "tokenizer.fit_on_texts(X_text)\n",
    "X_text = tokenizer.texts_to_sequences(X_text)\n",
    "\n",
    "# Pad sequences to a fixed length\n",
    "max_len = max(len(seq) for seq in X_text)\n",
    "X_text = pad_sequences(X_text, maxlen=max_len)\n",
    "\n",
    "# Chia dữ liệu thành tập huấn luyện, tập kiểm tra và tập validation\n",
    "X_train, X_temp, y_train, y_temp = train_test_split(X_text, y, test_size=0.2, random_state=42)\n",
    "X_val, X_test, y_val, y_test = train_test_split(X_temp, y_temp, test_size=0.5, random_state=42)\n"
   ]
  },
  {
   "cell_type": "markdown",
   "metadata": {},
   "source": [
    "## 2. Xây dựng và huấn luyện mô hình trên tập huấn luyện và đánh giá trên tập validation:"
   ]
  },
  {
   "cell_type": "code",
   "execution_count": 16,
   "metadata": {},
   "outputs": [
    {
     "name": "stdout",
     "output_type": "stream",
     "text": [
      "Epoch 1/10\n",
      "423/423 [==============================] - 2s 2ms/step - loss: 0.9928 - accuracy: 0.7987 - val_loss: 0.1161 - val_accuracy: 0.9639\n",
      "Epoch 2/10\n",
      "423/423 [==============================] - 1s 2ms/step - loss: 0.0727 - accuracy: 0.9754 - val_loss: 0.0371 - val_accuracy: 0.9953\n",
      "Epoch 3/10\n",
      "423/423 [==============================] - 1s 2ms/step - loss: 0.0246 - accuracy: 0.9953 - val_loss: 0.0134 - val_accuracy: 0.9970\n",
      "Epoch 4/10\n",
      "423/423 [==============================] - 1s 2ms/step - loss: 0.0132 - accuracy: 0.9959 - val_loss: 0.0089 - val_accuracy: 0.9970\n",
      "Epoch 5/10\n",
      "423/423 [==============================] - 1s 2ms/step - loss: 0.0082 - accuracy: 0.9977 - val_loss: 0.0063 - val_accuracy: 0.9982\n",
      "Epoch 6/10\n",
      "423/423 [==============================] - 1s 2ms/step - loss: 0.0050 - accuracy: 0.9990 - val_loss: 0.0046 - val_accuracy: 0.9982\n",
      "Epoch 7/10\n",
      "423/423 [==============================] - 1s 2ms/step - loss: 0.0033 - accuracy: 0.9992 - val_loss: 0.0032 - val_accuracy: 1.0000\n",
      "Epoch 8/10\n",
      "423/423 [==============================] - 1s 1ms/step - loss: 0.0023 - accuracy: 0.9996 - val_loss: 0.0019 - val_accuracy: 1.0000\n",
      "Epoch 9/10\n",
      "423/423 [==============================] - 1s 1ms/step - loss: 0.0016 - accuracy: 0.9997 - val_loss: 0.0010 - val_accuracy: 1.0000\n",
      "Epoch 10/10\n",
      "423/423 [==============================] - 1s 1ms/step - loss: 0.0011 - accuracy: 0.9998 - val_loss: 5.9469e-04 - val_accuracy: 1.0000\n"
     ]
    },
    {
     "data": {
      "image/png": "[encoded data removed]",
      "text/plain": [
       "<Figure size 640x480 with 1 Axes>"
      ]
     },
     "metadata": {},
     "output_type": "display_data"
    },
    {
     "data": {
      "image/png": "[encoded data removed]",
      "text/plain": [
       "<Figure size 640x480 with 1 Axes>"
      ]
     },
     "metadata": {},
     "output_type": "display_data"
    },
    {
     "name": "stdout",
     "output_type": "stream",
     "text": [
      "53/53 [==============================] - 0s 885us/step\n"
     ]
    },
    {
     "data": {
      "image/png": "[encoded data removed]",
      "text/plain": [
       "<Figure size 1000x800 with 2 Axes>"
      ]
     },
     "metadata": {},
     "output_type": "display_data"
    }
   ],
   "source": [
    "# Xây dựng mô hình\n",
    "embedding_dim = 50\n",
    "model = Sequential()\n",
    "model.add(Embedding(input_dim=max_vocab_size, output_dim=embedding_dim, input_length=max_len))\n",
    "model.add(Flatten())\n",
    "model.add(Dense(10, activation='relu'))\n",
    "model.add(Dense(len(le.classes_), activation='softmax'))\n",
    "\n",
    "# Biên soạn mô hình\n",
    "model.compile(optimizer='adam', loss='sparse_categorical_crossentropy', metrics=['accuracy'])\n",
    "\n",
    "# Huấn luyện mô hình trên tập huấn luyện và đánh giá trên tập validation\n",
    "history = model.fit(X_train, y_train, epochs=10, batch_size=32, validation_data=(X_val, y_val))\n",
    "\n",
    "# Biểu đồ accuracy\n",
    "plt.plot(history.history['accuracy'], label='Training Accuracy')\n",
    "plt.plot(history.history['val_accuracy'], label='Validation Accuracy')\n",
    "plt.xlabel('Epoch')\n",
    "plt.ylabel('Accuracy')\n",
    "plt.legend()\n",
    "plt.show()\n",
    "\n",
    "# Biểu đồ loss\n",
    "plt.plot(history.history['loss'], label='Training Loss')\n",
    "plt.plot(history.history['val_loss'], label='Validation Loss')\n",
    "plt.xlabel('Epoch')\n",
    "plt.ylabel('Loss')\n",
    "plt.legend()\n",
    "plt.show()\n",
    "\n",
    "from sklearn.metrics import confusion_matrix\n",
    "import seaborn as sns\n",
    "\n",
    "# Dự đoán trên tập kiểm thử\n",
    "y_probabilities = model.predict(X_test)\n",
    "y_pred = np.argmax(y_probabilities, axis=1)\n",
    "\n",
    "# Tính ma trận confusion\n",
    "cm = confusion_matrix(y_test, y_pred)\n",
    "\n",
    "# Vẽ ma trận confusion bằng seaborn\n",
    "plt.figure(figsize=(10, 8))\n",
    "sns.heatmap(cm, annot=True, fmt=\"d\", cmap=\"Blues\", xticklabels=le.classes_, yticklabels=le.classes_)\n",
    "plt.title(\"Confusion Matrix\")\n",
    "plt.xlabel(\"Predicted Label\")\n",
    "plt.ylabel(\"True Label\")\n",
    "plt.show()\n"
   ]
  },
  {
   "cell_type": "markdown",
   "metadata": {},
   "source": [
    "## 3. Điều chỉnh hyperparameters dựa trên đánh giá trên tập validation:"
   ]
  },
  {
   "cell_type": "markdown",
   "metadata": {},
   "source": [
    "Dựa vào kết quả huấn luyện và đánh giá trên tập validation, mô hình đã cho thấy hiệu suất rất tốt với độ chính xác lên đến 99.99% trên tập validation. Dưới đây là một số điều nhóm đề xuất để điều chỉnh hyperparameters:\n",
    "\n",
    "**Số lượng epochs:**\n",
    "Dựa vào kết quả, mô hình có vẻ đã hội tụ khá nhanh với số lượng epochs tương đối ít.\n",
    "Nhóm nhận thấy có thể thử giảm số lượng epochs hoặc sử dụng early stopping để ngừng huấn luyện khi không có cải thiện đáng kể."
   ]
  },
  {
   "cell_type": "markdown",
   "metadata": {},
   "source": [
    "**Batch size:**\n",
    "Batch size hiện đang là 32. Nhóm dự định thử nghiệm các giá trị khác nhau để xem liệu có sự thay đổi nào không."
   ]
  },
  {
   "cell_type": "markdown",
   "metadata": {},
   "source": [
    "**Kích thước embedding (embedding_dim):**\n",
    "Nhóm em đã sử dụng embedding_dim = 50, có thể thử các giá trị khác nhau, ví dụ như 32, 64, 128, để xem liệu có sự cải thiện nào không."
   ]
  },
  {
   "cell_type": "markdown",
   "metadata": {},
   "source": [
    "**Tăng cường dữ liệu (Data Augmentation):**\n",
    "có thể thử tăng cường dữ liệu để cải thiện khả năng tổng quát hóa của mô hình."
   ]
  },
  {
   "cell_type": "markdown",
   "metadata": {},
   "source": [
    "**Dropout:**\n",
    "Thêm dropout layer để giảm overfitting."
   ]
  },
  {
   "cell_type": "markdown",
   "metadata": {},
   "source": [
    "**Learning rate:**\n",
    "Thử điều chỉnh learning rate."
   ]
  },
  {
   "cell_type": "code",
   "execution_count": 17,
   "metadata": {
    "scrolled": true
   },
   "outputs": [
    {
     "name": "stdout",
     "output_type": "stream",
     "text": [
      "Epoch 1/10\n",
      "423/423 [==============================] - 2s 3ms/step - loss: 0.5190 - accuracy: 0.9450 - val_loss: 0.0263 - val_accuracy: 0.9953\n",
      "Epoch 2/10\n",
      "423/423 [==============================] - 1s 2ms/step - loss: 0.0209 - accuracy: 0.9965 - val_loss: 0.0076 - val_accuracy: 0.9982\n",
      "Epoch 3/10\n",
      "423/423 [==============================] - 1s 2ms/step - loss: 0.0072 - accuracy: 0.9990 - val_loss: 0.0050 - val_accuracy: 0.9982\n",
      "Epoch 4/10\n",
      "423/423 [==============================] - 1s 2ms/step - loss: 0.0044 - accuracy: 0.9993 - val_loss: 0.0038 - val_accuracy: 0.9994\n",
      "Epoch 5/10\n",
      "423/423 [==============================] - 1s 2ms/step - loss: 0.0031 - accuracy: 0.9993 - val_loss: 0.0022 - val_accuracy: 0.9994\n",
      "Epoch 6/10\n",
      "423/423 [==============================] - 1s 2ms/step - loss: 0.0024 - accuracy: 0.9995 - val_loss: 0.0012 - val_accuracy: 1.0000\n",
      "Epoch 7/10\n",
      "423/423 [==============================] - 1s 2ms/step - loss: 0.0018 - accuracy: 0.9996 - val_loss: 5.6117e-04 - val_accuracy: 1.0000\n",
      "Epoch 8/10\n",
      "423/423 [==============================] - 1s 2ms/step - loss: 0.0013 - accuracy: 0.9996 - val_loss: 2.3918e-04 - val_accuracy: 1.0000\n",
      "Epoch 9/10\n",
      "423/423 [==============================] - 1s 2ms/step - loss: 0.0011 - accuracy: 0.9996 - val_loss: 8.5059e-05 - val_accuracy: 1.0000\n",
      "Epoch 10/10\n",
      "423/423 [==============================] - 1s 2ms/step - loss: 9.0283e-04 - accuracy: 0.9999 - val_loss: 3.7561e-05 - val_accuracy: 1.0000\n"
     ]
    },
    {
     "data": {
      "image/png": "[encoded data removed]",
      "text/plain": [
       "<Figure size 640x480 with 1 Axes>"
      ]
     },
     "metadata": {},
     "output_type": "display_data"
    },
    {
     "data": {
      "image/png": "[encoded data removed]",
      "text/plain": [
       "<Figure size 640x480 with 1 Axes>"
      ]
     },
     "metadata": {},
     "output_type": "display_data"
    }
   ],
   "source": [
    "# Xây dựng mô hình\n",
    "embedding_dim = 50\n",
    "model = Sequential()\n",
    "model.add(Embedding(input_dim=max_vocab_size, output_dim=embedding_dim, input_length=max_len))\n",
    "model.add(Flatten())\n",
    "model.add(Dense(128, activation='relu'))\n",
    "model.add(Dropout(0.5))  # Thêm Dropout Layer để giảm overfitting\n",
    "model.add(Dense(len(le.classes_), activation='softmax'))\n",
    "\n",
    "# Biên soạn mô hình\n",
    "model.compile(optimizer='adam', loss='sparse_categorical_crossentropy', metrics=['accuracy'])\n",
    "\n",
    "# Sử dụng Early Stopping để ngừng huấn luyện khi không có cải thiện trên tập validation\n",
    "early_stopping = EarlyStopping(monitor='val_loss', patience=3, restore_best_weights=True)\n",
    "\n",
    "# Huấn luyện mô hình trên tập huấn luyện và đánh giá trên tập validation\n",
    "history = model.fit(X_train, y_train, epochs=10, batch_size=32, validation_data=(X_val, y_val), callbacks=[early_stopping])\n",
    "\n",
    "# Biểu đồ accuracy\n",
    "plt.plot(history.history['accuracy'], label='Training Accuracy')\n",
    "plt.plot(history.history['val_accuracy'], label='Validation Accuracy')\n",
    "plt.xlabel('Epoch')\n",
    "plt.ylabel('Accuracy')\n",
    "plt.legend()\n",
    "plt.show()\n",
    "\n",
    "# Biểu đồ loss\n",
    "plt.plot(history.history['loss'], label='Training Loss')\n",
    "plt.plot(history.history['val_loss'], label='Validation Loss')\n",
    "plt.xlabel('Epoch')\n",
    "plt.ylabel('Loss')\n",
    "plt.legend()\n",
    "plt.show()"
   ]
  },
  {
   "cell_type": "markdown",
   "metadata": {},
   "source": [
    "**Nhận xét hiệu quả từ việc điều chỉnh siêu tham số**: Có sự tiệm cận sát về độ chính xác lẫn độ mất mát giữa tập train và tập validation sau khi điều chỉnh, cho thấy rằng việc này ít nhiều cũng tạo ra sự tăng cường trong độ hiệu quả của mô hình."
   ]
  },
  {
   "cell_type": "markdown",
   "metadata": {},
   "source": [
    "## 4. Re-train mô hình trên (tập huấn luyện + tập validation)"
   ]
  },
  {
   "cell_type": "code",
   "execution_count": 18,
   "metadata": {},
   "outputs": [
    {
     "name": "stdout",
     "output_type": "stream",
     "text": [
      "Epoch 1/5\n",
      "423/423 [==============================] - 1s 2ms/step - loss: 6.4246e-04 - accuracy: 0.9999 - val_loss: 2.6082e-05 - val_accuracy: 1.0000\n",
      "Epoch 2/5\n",
      "423/423 [==============================] - 1s 2ms/step - loss: 4.3920e-04 - accuracy: 0.9999 - val_loss: 2.3708e-05 - val_accuracy: 1.0000\n",
      "Epoch 3/5\n",
      "423/423 [==============================] - 1s 2ms/step - loss: 3.4136e-04 - accuracy: 1.0000 - val_loss: 1.2036e-05 - val_accuracy: 1.0000\n",
      "Epoch 4/5\n",
      "423/423 [==============================] - 1s 2ms/step - loss: 2.0914e-04 - accuracy: 1.0000 - val_loss: 6.0096e-06 - val_accuracy: 1.0000\n",
      "Epoch 5/5\n",
      "423/423 [==============================] - 1s 2ms/step - loss: 9.7749e-05 - accuracy: 1.0000 - val_loss: 4.1564e-06 - val_accuracy: 1.0000\n"
     ]
    },
    {
     "data": {
      "image/png": "[encoded data removed]",
      "text/plain": [
       "<Figure size 640x480 with 1 Axes>"
      ]
     },
     "metadata": {},
     "output_type": "display_data"
    },
    {
     "data": {
      "image/png": "[encoded data removed]",
      "text/plain": [
       "<Figure size 640x480 with 1 Axes>"
      ]
     },
     "metadata": {},
     "output_type": "display_data"
    }
   ],
   "source": [
    "best_epochs = 5  \n",
    "best_batch_size = 32  \n",
    "\n",
    "X_train_final = np.concatenate((X_train, X_val))\n",
    "y_train_final = np.concatenate((y_train, y_val))\n",
    "\n",
    "# model.fit(X_train_final, y_train_final, epochs=best_epochs, batch_size=best_batch_size)\n",
    "history = model.fit(X_train, y_train, epochs=best_epochs, batch_size=32, validation_data=(X_val, y_val), callbacks=[early_stopping])\n",
    "\n",
    "# Biểu đồ accuracy\n",
    "plt.plot(history.history['accuracy'], label='Training Accuracy')\n",
    "plt.plot(history.history['val_accuracy'], label='Validation Accuracy')\n",
    "plt.xlabel('Epoch')\n",
    "plt.ylabel('Accuracy')\n",
    "plt.legend()\n",
    "plt.show()\n",
    "\n",
    "# Biểu đồ loss\n",
    "plt.plot(history.history['loss'], label='Training Loss')\n",
    "plt.plot(history.history['val_loss'], label='Validation Loss')\n",
    "plt.xlabel('Epoch')\n",
    "plt.ylabel('Loss')\n",
    "plt.legend()\n",
    "plt.show()"
   ]
  },
  {
   "cell_type": "markdown",
   "metadata": {},
   "source": [
    "## 5. Đánh giá mô hình cuối cùng trên tập kiểm tra"
   ]
  },
  {
   "cell_type": "code",
   "execution_count": 19,
   "metadata": {},
   "outputs": [
    {
     "name": "stdout",
     "output_type": "stream",
     "text": [
      "53/53 [==============================] - 0s 1ms/step - loss: 2.6635e-07 - accuracy: 1.0000\n",
      "Test Loss: 0.0000\n",
      "Test Accuracy: 1.0000\n"
     ]
    }
   ],
   "source": [
    "loss, accuracy = model.evaluate(X_test, y_test)\n",
    "print(f\"Test Loss: {loss:.4f}\")\n",
    "print(f\"Test Accuracy: {accuracy:.4f}\")"
   ]
  },
  {
   "cell_type": "code",
   "execution_count": 20,
   "metadata": {},
   "outputs": [
    {
     "name": "stdout",
     "output_type": "stream",
     "text": [
      "53/53 [==============================] - 0s 1ms/step\n",
      "Accuracy: 1.0000\n",
      "Precision: 1.0000\n",
      "Recall: 1.0000\n",
      "F1 Score: 1.0000\n"
     ]
    }
   ],
   "source": [
    "y_pred_prob = model.predict(X_test)\n",
    "y_pred = np.argmax(y_pred_prob, axis=1)\n",
    "\n",
    "accuracy = accuracy_score(y_test, y_pred)\n",
    "precision = precision_score(y_test, y_pred, average='weighted', zero_division=0)\n",
    "recall = recall_score(y_test, y_pred, average='weighted', zero_division=0)\n",
    "f1 = f1_score(y_test, y_pred, average='weighted')\n",
    "\n",
    "# Print the metrics\n",
    "print(f\"Accuracy: {accuracy:.4f}\")\n",
    "print(f\"Precision: {precision:.4f}\")\n",
    "print(f\"Recall: {recall:.4f}\")\n",
    "print(f\"F1 Score: {f1:.4f}\")"
   ]
  },
  {
   "cell_type": "code",
   "execution_count": 21,
   "metadata": {},
   "outputs": [
    {
     "name": "stdout",
     "output_type": "stream",
     "text": [
      "53/53 [==============================] - 0s 1ms/step\n",
      "              precision    recall  f1-score   support\n",
      "\n",
      "           0       1.00      1.00      1.00       213\n",
      "           1       1.00      1.00      1.00       722\n",
      "           2       1.00      1.00      1.00       148\n",
      "           3       1.00      1.00      1.00         5\n",
      "           4       1.00      1.00      1.00        20\n",
      "           5       1.00      1.00      1.00         5\n",
      "           6       1.00      1.00      1.00         3\n",
      "           7       1.00      1.00      1.00        33\n",
      "           8       1.00      1.00      1.00         7\n",
      "           9       1.00      1.00      1.00        48\n",
      "          10       1.00      1.00      1.00        15\n",
      "          11       1.00      1.00      1.00       355\n",
      "          12       1.00      1.00      1.00       110\n",
      "          13       1.00      1.00      1.00         2\n",
      "          14       1.00      1.00      1.00         4\n",
      "\n",
      "    accuracy                           1.00      1690\n",
      "   macro avg       1.00      1.00      1.00      1690\n",
      "weighted avg       1.00      1.00      1.00      1690\n",
      "\n"
     ]
    }
   ],
   "source": [
    "from sklearn.metrics import classification_report\n",
    "\n",
    "# Generate classification report\n",
    "y_pred = model.predict(X_test)\n",
    "y_pred_class = np.argmax(y_pred, axis=1)\n",
    "\n",
    "# Use the unique classes in the testing set\n",
    "num_classes = len(np.unique(y_test))\n",
    "print(classification_report(y_test, y_pred_class, target_names=[str(i) for i in range(num_classes)]))\n",
    "\n"
   ]
  },
  {
   "cell_type": "markdown",
   "metadata": {},
   "source": [
    "**Nhận xét**: Bất chấp việc được giới thiệu với tập test gồm dữ liệu mới hoàn toàn, ta thấy độ hiệu quả của mô hình Neural Network vẫn giữ nguyên hiệu suất là 100% trên các chỉ số đo lường.\n",
    "\n",
    "$\\Rightarrow$ Tiếp theo ta sẽ so sánh sự ăn khớp giữa mô hình này với dự đoán được dưa ra trên mục dự báo thời tiết của trang web đã cấp dữ liệu"
   ]
  },
  {
   "cell_type": "code",
   "execution_count": 27,
   "metadata": {},
   "outputs": [
    {
     "name": "stdout",
     "output_type": "stream",
     "text": [
      "125/125 [==============================] - 0s 1ms/step\n",
      "     Weather Description  Predicted Weather Description\n",
      "0        overcast clouds                              7\n",
      "1        overcast clouds                              7\n",
      "2        overcast clouds                              7\n",
      "3        overcast clouds                              7\n",
      "4        overcast clouds                              7\n",
      "...                  ...                            ...\n",
      "3995           clear sky                              7\n",
      "3996           clear sky                              7\n",
      "3997           clear sky                              7\n",
      "3998           clear sky                              7\n",
      "3999           clear sky                              7\n",
      "\n",
      "[4000 rows x 2 columns]\n",
      "Accuracy: 33.92%\n"
     ]
    }
   ],
   "source": [
    "# Đọc file dữ liệu mới\n",
    "df_new = pd.read_csv(\"../data/weather_data_combined_forecast.csv\")\n",
    "\n",
    "X_new_text = df_new['Weather Description'].astype(str).values\n",
    "\n",
    "# Tokenization và Padding\n",
    "X_new_text = tokenizer.texts_to_sequences(X_new_text)\n",
    "X_new_text = pad_sequences(X_new_text, maxlen=max_len)\n",
    "\n",
    "# Dự đoán Weather Description cho tập dữ liệu mới\n",
    "predictions_new = model.predict(X_new_text)\n",
    "\n",
    "# Chuyển đổi nhãn dự đoán về nhãn gốc\n",
    "predicted_labels_new = np.argmax(predictions_new, axis=1)\n",
    "predicted_labels_original_new = le.inverse_transform(predicted_labels_new)\n",
    "\n",
    "# Thêm cột 'Predicted Weather Description' vào DataFrame mới\n",
    "df_new['Predicted Weather Description'] = predicted_labels_original_new\n",
    "\n",
    "# So sánh kết quả dự đoán với kết quả gốc\n",
    "comparison_result = df_new[['Weather Description', 'Predicted Weather Description']]\n",
    "print(comparison_result)\n",
    "\n",
    "# Lấy nhãn thực tế\n",
    "y_true = le.fit_transform(df_new['Weather Description'])  # Chuyển đổi nhãn thực tế về dạng số\n",
    "\n",
    "# Tính độ chính xác\n",
    "accuracy = accuracy_score(y_true, predicted_labels_new)\n",
    "print(f'Accuracy: {accuracy * 100:.2f}%')"
   ]
  },
  {
   "cell_type": "markdown",
   "metadata": {},
   "source": [
    "### Nhận xét: \n",
    "Khi đối chiếu mô hình tự xây dựng với dữ liệu dự báo thời tiết, ta thấy rằng độ chính xác chỉ đạt được 33,92%\n",
    "\n",
    "Điều này có thể giải thích bằng các yếu tố như sau:\n",
    "- **Quy mô tập dữ liệu**: Như ở phần thu thập lịch sử thời tiết của mô hình, bọn em chỉ lấy dữ liệu thời tiết từ một số vị trí cụ thể trên nước Mỹ vào một khoảng thời gian nhất định (Cụ thể là từ ngày 9/11/2023 - 2/12/2023). Trong khi đó phía dự báo thời tiết có thể lấy dữ liệu từ một khu vực rộng hơn hoặc là khoảng thời gian rộng hơn. \n",
    "- **Dữ liệu được sử dụng**: Trang web dự báo thời tiết có thể còn một số thuộc tính thời tiết khác được ẩn đi mà mô hình bọn em xây dựng không thể truy cập vào.\n",
    "\n",
    "$\\Rightarrow$ Những điều này dẫn tới cách hoạt động khác nhau giữa mô hình bọn em đã xây dựng so với mô hình từ phía dự báo thời tiết. Từ đó gây ra sự khác nhau trong kết quả dự đoán."
   ]
  },
  {
   "cell_type": "markdown",
   "metadata": {},
   "source": []
  }
 ],
 "metadata": {
  "kernelspec": {
   "display_name": "Python 3 (ipykernel)",
   "language": "python",
   "name": "python3"
  },
  "language_info": {
   "codemirror_mode": {
    "name": "ipython",
    "version": 3
   },
   "file_extension": ".py",
   "mimetype": "text/x-python",
   "name": "python",
   "nbconvert_exporter": "python",
   "pygments_lexer": "ipython3",
   "version": "3.10.5"
  }
 },
 "nbformat": 4,
 "nbformat_minor": 2
}
