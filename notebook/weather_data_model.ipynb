{
 "cells": [
  {
   "cell_type": "code",
   "execution_count": 27,
   "metadata": {},
   "outputs": [],
   "source": [
    "import pandas as pd\n",
    "from sklearn.preprocessing import LabelEncoder\n",
    "from sklearn.model_selection import train_test_split\n",
    "from sklearn.linear_model import LogisticRegression\n",
    "from sklearn.ensemble import RandomForestClassifier\n",
    "from sklearn.metrics import accuracy_score, precision_score, recall_score, f1_score, confusion_matrix, classification_report\n"
   ]
  },
  {
   "cell_type": "markdown",
   "metadata": {},
   "source": [
    "**Loading data**"
   ]
  },
  {
   "cell_type": "code",
   "execution_count": 28,
   "metadata": {},
   "outputs": [
    {
     "name": "stdout",
     "output_type": "stream",
     "text": [
      "<class 'pandas.core.frame.DataFrame'>\n",
      "RangeIndex: 7300 entries, 0 to 7299\n",
      "Data columns (total 11 columns):\n",
      " #   Column               Non-Null Count  Dtype  \n",
      "---  ------               --------------  -----  \n",
      " 0   Timestamp            7300 non-null   int64  \n",
      " 1   Temperature          7300 non-null   float64\n",
      " 2   Feels Like           7300 non-null   float64\n",
      " 3   Temp Min             7300 non-null   float64\n",
      " 4   Temp Max             7300 non-null   float64\n",
      " 5   Pressure             7300 non-null   int64  \n",
      " 6   Humidity             7300 non-null   int64  \n",
      " 7   Weather Description  7300 non-null   object \n",
      " 8   Wind Speed           7300 non-null   float64\n",
      " 9   Wind Degree          7300 non-null   int64  \n",
      " 10  City                 7300 non-null   object \n",
      "dtypes: float64(5), int64(4), object(2)\n",
      "memory usage: 627.5+ KB\n"
     ]
    },
    {
     "data": {
      "text/html": [
       "<div>\n",
       "<style scoped>\n",
       "    .dataframe tbody tr th:only-of-type {\n",
       "        vertical-align: middle;\n",
       "    }\n",
       "\n",
       "    .dataframe tbody tr th {\n",
       "        vertical-align: top;\n",
       "    }\n",
       "\n",
       "    .dataframe thead th {\n",
       "        text-align: right;\n",
       "    }\n",
       "</style>\n",
       "<table border=\"1\" class=\"dataframe\">\n",
       "  <thead>\n",
       "    <tr style=\"text-align: right;\">\n",
       "      <th></th>\n",
       "      <th>Timestamp</th>\n",
       "      <th>Temperature</th>\n",
       "      <th>Feels Like</th>\n",
       "      <th>Temp Min</th>\n",
       "      <th>Temp Max</th>\n",
       "      <th>Pressure</th>\n",
       "      <th>Humidity</th>\n",
       "      <th>Weather Description</th>\n",
       "      <th>Wind Speed</th>\n",
       "      <th>Wind Degree</th>\n",
       "      <th>City</th>\n",
       "    </tr>\n",
       "  </thead>\n",
       "  <tbody>\n",
       "    <tr>\n",
       "      <th>0</th>\n",
       "      <td>1701882000</td>\n",
       "      <td>277.92</td>\n",
       "      <td>274.38</td>\n",
       "      <td>276.45</td>\n",
       "      <td>279.29</td>\n",
       "      <td>1015</td>\n",
       "      <td>61</td>\n",
       "      <td>broken clouds</td>\n",
       "      <td>4.63</td>\n",
       "      <td>330</td>\n",
       "      <td>United States-New York City</td>\n",
       "    </tr>\n",
       "    <tr>\n",
       "      <th>1</th>\n",
       "      <td>1701885600</td>\n",
       "      <td>277.97</td>\n",
       "      <td>274.09</td>\n",
       "      <td>276.62</td>\n",
       "      <td>279.12</td>\n",
       "      <td>1014</td>\n",
       "      <td>57</td>\n",
       "      <td>overcast clouds</td>\n",
       "      <td>5.36</td>\n",
       "      <td>344</td>\n",
       "      <td>United States-New York City</td>\n",
       "    </tr>\n",
       "    <tr>\n",
       "      <th>2</th>\n",
       "      <td>1701889200</td>\n",
       "      <td>277.78</td>\n",
       "      <td>273.30</td>\n",
       "      <td>276.35</td>\n",
       "      <td>278.83</td>\n",
       "      <td>1014</td>\n",
       "      <td>55</td>\n",
       "      <td>overcast clouds</td>\n",
       "      <td>6.69</td>\n",
       "      <td>330</td>\n",
       "      <td>United States-New York City</td>\n",
       "    </tr>\n",
       "    <tr>\n",
       "      <th>3</th>\n",
       "      <td>1701892800</td>\n",
       "      <td>277.30</td>\n",
       "      <td>272.50</td>\n",
       "      <td>275.83</td>\n",
       "      <td>278.40</td>\n",
       "      <td>1014</td>\n",
       "      <td>56</td>\n",
       "      <td>overcast clouds</td>\n",
       "      <td>7.20</td>\n",
       "      <td>290</td>\n",
       "      <td>United States-New York City</td>\n",
       "    </tr>\n",
       "    <tr>\n",
       "      <th>4</th>\n",
       "      <td>1701896400</td>\n",
       "      <td>276.86</td>\n",
       "      <td>271.40</td>\n",
       "      <td>275.51</td>\n",
       "      <td>277.71</td>\n",
       "      <td>1015</td>\n",
       "      <td>53</td>\n",
       "      <td>broken clouds</td>\n",
       "      <td>8.75</td>\n",
       "      <td>320</td>\n",
       "      <td>United States-New York City</td>\n",
       "    </tr>\n",
       "  </tbody>\n",
       "</table>\n",
       "</div>"
      ],
      "text/plain": [
       "    Timestamp  Temperature  Feels Like  Temp Min  Temp Max  Pressure  \\\n",
       "0  1701882000       277.92      274.38    276.45    279.29      1015   \n",
       "1  1701885600       277.97      274.09    276.62    279.12      1014   \n",
       "2  1701889200       277.78      273.30    276.35    278.83      1014   \n",
       "3  1701892800       277.30      272.50    275.83    278.40      1014   \n",
       "4  1701896400       276.86      271.40    275.51    277.71      1015   \n",
       "\n",
       "   Humidity Weather Description  Wind Speed  Wind Degree  \\\n",
       "0        61       broken clouds        4.63          330   \n",
       "1        57     overcast clouds        5.36          344   \n",
       "2        55     overcast clouds        6.69          330   \n",
       "3        56     overcast clouds        7.20          290   \n",
       "4        53       broken clouds        8.75          320   \n",
       "\n",
       "                          City  \n",
       "0  United States-New York City  \n",
       "1  United States-New York City  \n",
       "2  United States-New York City  \n",
       "3  United States-New York City  \n",
       "4  United States-New York City  "
      ]
     },
     "execution_count": 28,
     "metadata": {},
     "output_type": "execute_result"
    }
   ],
   "source": [
    "df = pd.read_csv(\"../data/weather_data_combined.csv\")\n",
    "df.info()\n",
    "df.head(5)"
   ]
  },
  {
   "cell_type": "markdown",
   "metadata": {},
   "source": [
    "**Preprocessing data**"
   ]
  },
  {
   "cell_type": "code",
   "execution_count": 29,
   "metadata": {},
   "outputs": [],
   "source": [
    "#df['Timestamp'] = pd.to_datetime(df['Timestamp'], unit='s')\n",
    "df['Timestamp'] = df['Timestamp'].astype('int64')/1e9\n",
    "lb = LabelEncoder()\n",
    "df['City'] = lb.fit_transform(df['City'])"
   ]
  },
  {
   "cell_type": "code",
   "execution_count": 30,
   "metadata": {},
   "outputs": [],
   "source": [
    "# Split the data\n",
    "X = df.drop('Weather Description', axis=1)\n",
    "y = df['Weather Description']\n",
    "X_train, X_test, y_train, y_test = train_test_split(X, y, test_size=0.2, random_state=42)"
   ]
  },
  {
   "cell_type": "code",
   "execution_count": 31,
   "metadata": {},
   "outputs": [],
   "source": [
    "model = RandomForestClassifier(n_estimators=100, random_state=42)\n",
    "model.fit(X_train, y_train)\n",
    "y_pred = model.predict(X_test)"
   ]
  },
  {
   "cell_type": "code",
   "execution_count": 32,
   "metadata": {},
   "outputs": [
    {
     "name": "stdout",
     "output_type": "stream",
     "text": [
      "Accuracy: 0.6678082191780822\n",
      "Precision: 0.6588381406529871\n",
      "Recall: 0.6678082191780822\n",
      "F1 Score: 0.6471458316925507\n",
      "Confusion Matrix: \n",
      "[[133  51   4   0   0   0   0   1   0   0  44  11   0]\n",
      " [ 15 528  19   0   0   0   0   0   1   0  11   7   0]\n",
      " [ 18  67  63   0   0   0   0   0   0   0   5  10   0]\n",
      " [  0   1   0   6   0   0   0   0   3   0   0   0   0]\n",
      " [  0  12   0   0  10   0   0   0   1   0   2   0   0]\n",
      " [  0   0   0   1   0   0   0   0   1   0   0   0   0]\n",
      " [  1   3   0   0   0   0   2   0   0   0   7   0   0]\n",
      " [  0   1   0   0   0   0   0   5   1   0   0   0   0]\n",
      " [  4  12   0   2   0   1   0   0  17   1   4   1   0]\n",
      " [  1   0   0   0   0   0   0   0   1   1   3   0   0]\n",
      " [ 48  15   0   0   0   0   0   1   2   1 178   4   0]\n",
      " [ 29  36  10   0   0   0   0   0   0   0   9  27   0]\n",
      " [  0   1   0   0   0   0   0   0   1   0   0   0   5]]\n"
     ]
    }
   ],
   "source": [
    "# Calculate metrics\n",
    "accuracy = accuracy_score(y_test, y_pred)\n",
    "precision = precision_score(y_test, y_pred, average='weighted')\n",
    "recall = recall_score(y_test, y_pred, average='weighted')\n",
    "f1 = f1_score(y_test, y_pred, average='weighted')\n",
    "\n",
    "# Print metrics\n",
    "print(f'Accuracy: {accuracy}')\n",
    "print(f'Precision: {precision}')\n",
    "print(f'Recall: {recall}')\n",
    "print(f'F1 Score: {f1}')\n",
    "\n",
    "# Confusion Matrix\n",
    "cm = confusion_matrix(y_test, y_pred)\n",
    "print(f'Confusion Matrix: \\n{cm}')"
   ]
  },
  {
   "cell_type": "code",
   "execution_count": 33,
   "metadata": {},
   "outputs": [
    {
     "name": "stdout",
     "output_type": "stream",
     "text": [
      "                         precision    recall  f1-score   support\n",
      "\n",
      "          broken clouds       1.00      0.00      0.01       244\n",
      "              clear sky       0.46      0.89      0.61       581\n",
      "             few clouds       0.00      0.00      0.00       163\n",
      "                    fog       0.00      0.00      0.00        10\n",
      "                   haze       0.00      0.00      0.00        25\n",
      "light intensity drizzle       0.00      0.00      0.00         2\n",
      "             light rain       0.00      0.00      0.00        13\n",
      "             light snow       1.00      0.14      0.25         7\n",
      "                   mist       0.37      0.24      0.29        42\n",
      "          moderate rain       0.00      0.00      0.00         6\n",
      "        overcast clouds       0.43      0.53      0.47       249\n",
      "       scattered clouds       0.00      0.00      0.00       111\n",
      "                   snow       0.50      0.14      0.22         7\n",
      "\n",
      "               accuracy                           0.46      1460\n",
      "              macro avg       0.29      0.15      0.14      1460\n",
      "           weighted avg       0.44      0.46      0.34      1460\n",
      "\n"
     ]
    },
    {
     "name": "stderr",
     "output_type": "stream",
     "text": [
      "c:\\Users\\TuanKhai\\AppData\\Local\\Programs\\Python\\Python310\\lib\\site-packages\\sklearn\\metrics\\_classification.py:1469: UndefinedMetricWarning: Precision and F-score are ill-defined and being set to 0.0 in labels with no predicted samples. Use `zero_division` parameter to control this behavior.\n",
      "  _warn_prf(average, modifier, msg_start, len(result))\n",
      "c:\\Users\\TuanKhai\\AppData\\Local\\Programs\\Python\\Python310\\lib\\site-packages\\sklearn\\metrics\\_classification.py:1469: UndefinedMetricWarning: Precision and F-score are ill-defined and being set to 0.0 in labels with no predicted samples. Use `zero_division` parameter to control this behavior.\n",
      "  _warn_prf(average, modifier, msg_start, len(result))\n",
      "c:\\Users\\TuanKhai\\AppData\\Local\\Programs\\Python\\Python310\\lib\\site-packages\\sklearn\\metrics\\_classification.py:1469: UndefinedMetricWarning: Precision and F-score are ill-defined and being set to 0.0 in labels with no predicted samples. Use `zero_division` parameter to control this behavior.\n",
      "  _warn_prf(average, modifier, msg_start, len(result))\n"
     ]
    }
   ],
   "source": [
    "model = LogisticRegression(solver='liblinear', multi_class='auto')\n",
    "\n",
    "# Train the model\n",
    "model.fit(X_train, y_train)\n",
    "\n",
    "# Make predictions\n",
    "y_pred = model.predict(X_test)\n",
    "\n",
    "# Print a classification report\n",
    "print(classification_report(y_test, y_pred))"
   ]
  }
 ],
 "metadata": {
  "kernelspec": {
   "display_name": "Python 3",
   "language": "python",
   "name": "python3"
  },
  "language_info": {
   "codemirror_mode": {
    "name": "ipython",
    "version": 3
   },
   "file_extension": ".py",
   "mimetype": "text/x-python",
   "name": "python",
   "nbconvert_exporter": "python",
   "pygments_lexer": "ipython3",
   "version": "3.10.5"
  }
 },
 "nbformat": 4,
 "nbformat_minor": 2
}
