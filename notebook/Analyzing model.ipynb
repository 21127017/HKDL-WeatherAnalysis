{
 "cells": [
  {
   "cell_type": "markdown",
   "id": "7780e3b5",
   "metadata": {},
   "source": [
    "# Tại sao mô hình neuron network hiệu quả hơn các mô hình khác?\n",
    "### Ưu điểm của neuron network\n",
    "- **Đặc tính phi tuyến của mô hình:** Neural Network có khả năng học các biểu diễn phi tuyến tính và phi tuyến tính phức tạp từ dữ liệu, điều này giúp nó có khả năng mô hình hóa mối quan hệ phức tạp giữa các thuộc tính và Weather Description.\n",
    "- **Kích thước mô hình:** Mô hình Neural Network của nhóm em được xây dựng với 5 lớp:\n",
    "    - **Một lớp Embedding:** giúp mô hình học biểu diễn dữ liệu văn bản.\n",
    "    - **Một lớp Flatten:** giúp chuyển đổi dữ liệu từ một định dạng nhiều chiều thành một vectơ một chiều. \n",
    "    - **Một lớp Dense với 10 neuron với hàm relu:** giúp giữ nguyên giá trị dương và chuyển giá trị âm thành 0, từ đó giúp mô hình có khả năng học được các biểu diễn phi tuyến tính và các mối quan hệ phức tạp trong dữ liệu.\n",
    "    - **Một lớp Dropout:** ngẫu nhiên \"tắt\" một số nơ-ron trong quá trình huấn luyện từ đó giúp mô hình học cách làm mềm và tránh quá mức phụ thuộc vào một số cụ thể nơ-ron, giảm thiểu khả năng overfitting.\n",
    "    - **Một lớp Dense với softmax activation:** Hàm softmax chuyển đầu vào thành một phân phối xác suất, nó thường được sử dụng trong lớp output của mô hình phân loại nhiều lớp (phù hợp với bài toán của nhóm chúng em).\n",
    "    \n",
    "$\\rightarrow$ Mặc dù kích thước của mô hình không lớn, nhưng nó có độ linh hoạt cao.\n",
    "- **Tính tổng quát hóa:** Mô hình Neural Network có khả năng tổng quát hóa tốt hơn đối với dữ liệu mới nếu nó được huấn luyện đúng cách. Điều này có thể được thể hiện qua việc sử dụng Dropout layer để giảm overfitting.\n",
    "### Nhược điểm của các mô hình khác\n",
    "- **Khả năng phân biệt tuyến tính (SVM và Logistic Regression):** SVM và Logistic Regression là những mô hình được thiết kế để xử lý dữ liệu có tính chất tuyến tính, nghĩa là dữ liệu có thể được phân loại hoặc tìm ra ranh giới quyết định bằng một đường thẳng hay mặt phẳng. Nếu dữ liệu của bạn có mối quan hệ phức tạp và không tuyến tính, chúng có thể không hiệu quả.\n",
    "- **Tính chất phi tuyến tính (k-Nearest Neighbors và Random Forest):** Khi dữ liệu không phải là tuyến tính, các mô hình như k-Nearest Neighbors (kNN) và Random Forest có thể gặp khó khăn trong việc học mối quan hệ phức tạp. Các mô hình này có xu hướng hiệu quả hơn trong các tình huống tuyến tính hoặc khi có sự tương quan đơn giản giữa các đặc trưng và nhãn.\n",
    "- **Khả năng chịu nhiễu (k-Nearest Neighbors và Logistic Regression):** K-Nearest Neighbors và Logistic Regression có thể nhạy cảm với nhiễu trong dữ liệu. Nếu có nhiễu hoặc dữ liệu không đồng đều, chúng có thể không hiệu quả."
   ]
  }
 ],
 "metadata": {
  "kernelspec": {
   "display_name": "Python 3 (ipykernel)",
   "language": "python",
   "name": "python3"
  },
  "language_info": {
   "codemirror_mode": {
    "name": "ipython",
    "version": 3
   },
   "file_extension": ".py",
   "mimetype": "text/x-python",
   "name": "python",
   "nbconvert_exporter": "python",
   "pygments_lexer": "ipython3",
   "version": "3.11.4"
  }
 },
 "nbformat": 4,
 "nbformat_minor": 5
}
