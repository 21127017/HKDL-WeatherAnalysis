{
 "cells": [
  {
   "cell_type": "markdown",
   "metadata": {},
   "source": [
    "## Đặt vấn đề\n",
    "### 1. Phân tích sơ bộ \n",
    "Trong những thuộc tính của bộ dữ liệu về thời tiết đã được thu thập, ta thấy rằng thuộc tính \"weather description\" (tạm dịch là \"mô tả thời tiết\") là thuộc tính mang yếu tố trực quan nhất và dễ hiểu nhất. Những cột thuộc tính khác đều thuộc dạng dữ liệu số như nhiệt độ, áp suật, sức gió,... ít nhiều cũng có đôi chút khó hiểu đối với những người không am hiểu rõ về khí tượng học. Trong khi đó, với cột mô tả thời tiết, ta gần như có thể hình dung ngay được thời tiết lúc đó trông ra sao, chẳng hạn như là mưa, tuyết rơi, có bão,... Cũng bởi điều này nên nếu như chúng ta có thể dự đoán được giá trị cột thuộc tính này sẽ mang lại không ít lợi ích trong việc chuẩn bị trước sự thay đổi thời tiết.\n",
    "\n",
    "### 2. Mục đích\n",
    "Mục đích chính của việc xây dựng mô hình như sau:\n",
    "- Dự báo thời tiết: Bằng cách dự đoán “weather description”, chúng ta có thể dự đoán điều kiện thời tiết tương lai dựa trên dữ liệu lịch sử.\n",
    "- Nghiên cứu khí hậu: Mô hình như vậy cũng có thể hữu ích trong nghiên cứu khí hậu. Hiểu biết về các mô hình thời tiết theo thời gian có thể giúp nghiên cứu biến đổi khí hậu và những tác động của nó.\n",
    "- Phân tích dữ liệu: Những dự đoán từ mô hình này có thể giúp phân tích và hiểu rõ sự ảnh hưởng giữa các cột thuộc tính thời tiết khác nhau, ví dụ như nhiệt độ và độ ẩm có quan hệ như thế nào đối với cảnh quan thời tiết,...\n",
    "\n",
    "### 3. Lợi ích\n",
    "Kết quả dự doán từ mô hình sẽ đem lại một số lợi ích như:\n",
    "- Kế hoạch và quyết định: Do nhiều ngành như nông nghiệp, xây dựng, du lịch, quản lý sự kiện chịu sự ảnh hưởng rất lớn từ thời tiết thiên nhiên nên việc dự đoán sẽ giúp lên kế hoạch và điều chỉnh hiệu quả trong ngành nghề\n",
    "- Biện pháp an toàn: Dự đoán được thiên tai sẽ giúp chúng ta phòng bị tốt hơn để giảm thiểu tối đa ảnh hưởng tới con người và tài sản \n",
    "- Quản lý nguồn lực: Trong các ngành như nông nghiệp và năng lượng (đặc biệt là nguồn tái tạo như năng lượng mặt trời và gió), việc biết trước thời tiết có thể giúp quản lý và điều chỉnh nguồn lực một cách hiệu quả."
   ]
  },
  {
   "cell_type": "markdown",
   "metadata": {},
   "source": []
  }
 ],
 "metadata": {
  "language_info": {
   "name": "python"
  }
 },
 "nbformat": 4,
 "nbformat_minor": 2
}
